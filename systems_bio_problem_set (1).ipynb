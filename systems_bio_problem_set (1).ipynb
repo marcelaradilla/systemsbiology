{
  "nbformat": 4,
  "nbformat_minor": 0,
  "metadata": {
    "colab": {
      "name": "systems_bio_problem_set.ipynb",
      "provenance": []
    },
    "kernelspec": {
      "name": "python3",
      "display_name": "Python 3"
    }
  },
  "cells": [
    {
      "cell_type": "markdown",
      "metadata": {
        "id": "88MVQL4A-WGQ"
      },
      "source": [
        "## Systems Biology Problem Set \n",
        "### IL181.027 \n",
        "### Supplementary code\n",
        "Marcela Radilla Deloya "
      ]
    },
    {
      "cell_type": "markdown",
      "metadata": {
        "id": "CJ_9sWKaCWQZ"
      },
      "source": [
        "**Problem 1**"
      ]
    },
    {
      "cell_type": "code",
      "metadata": {
        "id": "Unn39G0I-VdK"
      },
      "source": [
        "#distributions"
      ],
      "execution_count": null,
      "outputs": []
    },
    {
      "cell_type": "code",
      "metadata": {
        "id": "cYlYdDADkaPn"
      },
      "source": [
        "import matplotlib.pyplot as plt\n",
        "import numpy as np\n",
        "import scipy.stats as sts"
      ],
      "execution_count": 2,
      "outputs": []
    },
    {
      "cell_type": "markdown",
      "metadata": {
        "id": "DF5F-G4W-luq"
      },
      "source": [
        "Gaussian \n",
        "$(μ=10, σ^2 =2.5)$"
      ]
    },
    {
      "cell_type": "code",
      "metadata": {
        "colab": {
          "base_uri": "https://localhost:8080/",
          "height": 401
        },
        "id": "zqX3HRiRkdri",
        "outputId": "45754878-42f6-45f7-a363-03176063dcdb"
      },
      "source": [
        "#x=np.linspace(0,1,num=1000)\n",
        "gaussian_x=sts.norm.rvs(loc=10,scale=2.5, size=1000)\n",
        "plt.figure(figsize=(8, 5))\n",
        "plt.hist(gaussian_x,density=True)\n",
        "plt.title('Gaussian distribution')\n",
        "plt.xlabel('Value')\n",
        "plt.ylabel('Frequency')\n",
        "plt.show()\n",
        "print(\"Mean:\", np.mean(gaussian_x))\n",
        "print(\"Variance:\", np.var(gaussian_x))\n",
        "print(\"95% CI:[{}, {}]\".format(np.percentile(gaussian_x, 2.5), np.percentile(gaussian_x, 97.5)))\n"
      ],
      "execution_count": 24,
      "outputs": [
        {
          "output_type": "display_data",
          "data": {
            "image/png": "[encoded data removed]",
            "text/plain": [
              "<Figure size 576x360 with 1 Axes>"
            ]
          },
          "metadata": {
            "tags": [],
            "needs_background": "light"
          }
        },
        {
          "output_type": "stream",
          "text": [
            "Mean: 9.841114625051762\n",
            "Variance: 6.402925480939184\n",
            "95% CI:[5.005864469687079, 14.64750757547153]\n"
          ],
          "name": "stdout"
        }
      ]
    },
    {
      "cell_type": "markdown",
      "metadata": {
        "id": "xgFQKuVo-sBQ"
      },
      "source": [
        "Poisson $(λ=2)$"
      ]
    },
    {
      "cell_type": "code",
      "metadata": {
        "colab": {
          "base_uri": "https://localhost:8080/",
          "height": 401
        },
        "id": "9OjRTe-7_EoJ",
        "outputId": "78348e95-ed7d-4e1c-a63d-4009da3d8e01"
      },
      "source": [
        "lambda_p=2\n",
        "poi_x=sts.poisson.rvs(mu=lambda_p,size=1000)\n",
        "plt.figure(figsize=(8, 5))\n",
        "plt.hist(poi_x,density=True)\n",
        "plt.title('Poisson distribution')\n",
        "plt.xlabel('Value')\n",
        "plt.ylabel('Frequency')\n",
        "plt.show()\n",
        "print(\"Mean:\", np.mean(poi_x))\n",
        "print(\"Variance:\", np.var(poi_x))\n",
        "print(\"95% CI:[{}, {}]\".format(np.percentile(poi_x, 2.5), np.percentile(poi_x, 97.5)))\n"
      ],
      "execution_count": 26,
      "outputs": [
        {
          "output_type": "display_data",
          "data": {
            "image/png": "[encoded data removed]",
            "text/plain": [
              "<Figure size 576x360 with 1 Axes>"
            ]
          },
          "metadata": {
            "tags": [],
            "needs_background": "light"
          }
        },
        {
          "output_type": "stream",
          "text": [
            "Mean: 2.024\n",
            "Variance: 2.027424\n",
            "95% CI:[0.0, 5.0]\n"
          ],
          "name": "stdout"
        }
      ]
    },
    {
      "cell_type": "markdown",
      "metadata": {
        "id": "gq1x7ZvH-sJm"
      },
      "source": [
        "Negative Binomial $(r=4, p=0.3)$"
      ]
    },
    {
      "cell_type": "code",
      "metadata": {
        "colab": {
          "base_uri": "https://localhost:8080/",
          "height": 401
        },
        "id": "Y3TncDJH_FPu",
        "outputId": "6f85b597-87fd-4358-8074-f7aef2535a07"
      },
      "source": [
        "r=4\n",
        "p=0.3 \n",
        "negbinom_x=sts.nbinom.rvs(n=r,p=p,size=1000)\n",
        "plt.figure(figsize=(8, 5))\n",
        "plt.hist(negbinom_x,density=True)\n",
        "plt.title('Negative Binomial distribution')\n",
        "plt.xlabel('Value')\n",
        "plt.ylabel('Frequency')\n",
        "plt.show()\n",
        "print(\"Mean:\", np.mean(negbinom_x))\n",
        "print(\"Variance:\", np.var(negbinom_x))\n",
        "print(\"95% CI:[{}, {}]\".format(np.percentile(negbinom_x, 2.5), np.percentile(negbinom_x, 97.5)))\n"
      ],
      "execution_count": 28,
      "outputs": [
        {
          "output_type": "display_data",
          "data": {
            "image/png": "[encoded data removed]",
            "text/plain": [
              "<Figure size 576x360 with 1 Axes>"
            ]
          },
          "metadata": {
            "tags": [],
            "needs_background": "light"
          }
        },
        {
          "output_type": "stream",
          "text": [
            "Mean: 9.384\n",
            "Variance: 34.184543999999995\n",
            "95% CI:[1.0, 23.024999999999977]\n"
          ],
          "name": "stdout"
        }
      ]
    },
    {
      "cell_type": "markdown",
      "metadata": {
        "id": "DQ8FccP--sL1"
      },
      "source": [
        "Beta binomial $(α=0.1, β=3, n = 500)$\n",
        "\n",
        "(1000 trials)"
      ]
    },
    {
      "cell_type": "code",
      "metadata": {
        "colab": {
          "base_uri": "https://localhost:8080/",
          "height": 401
        },
        "id": "U9f8bA9f_F3r",
        "outputId": "e4850957-2fcf-4cae-f248-df5744e46165"
      },
      "source": [
        "alpha=0.1\n",
        "beta=3\n",
        "n=500\n",
        "beta_bin_x=sts.betabinom.rvs(n=n,a=alpha,b=beta,size=1000)\n",
        "plt.figure(figsize=(8, 5))\n",
        "plt.hist(beta_bin_x,density=True)\n",
        "plt.title('Beta Binomial distribution')\n",
        "plt.xlabel('Value')\n",
        "plt.ylabel('Frequency')\n",
        "plt.show()\n",
        "print(\"Mean:\", np.mean(beta_bin_x))\n",
        "print(\"Variance:\", np.var(beta_bin_x))\n",
        "print(\"95% CI:[{}, {}]\".format(np.percentile(beta_bin_x, 2.5), np.percentile(beta_bin_x, 97.5)))\n"
      ],
      "execution_count": 34,
      "outputs": [
        {
          "output_type": "display_data",
          "data": {
            "image/png": "[encoded data removed]",
            "text/plain": [
              "<Figure size 576x360 with 1 Axes>"
            ]
          },
          "metadata": {
            "tags": [],
            "needs_background": "light"
          }
        },
        {
          "output_type": "stream",
          "text": [
            "Mean: 18.116\n",
            "Variance: 2451.002544\n",
            "95% CI:[0.0, 203.07499999999993]\n"
          ],
          "name": "stdout"
        }
      ]
    },
    {
      "cell_type": "markdown",
      "metadata": {
        "id": "9zNp_P0m-sN7"
      },
      "source": [
        "Gamma $(θ = 2.3, k = 1)$"
      ]
    },
    {
      "cell_type": "code",
      "metadata": {
        "colab": {
          "base_uri": "https://localhost:8080/",
          "height": 401
        },
        "id": "JLP8ULWSAXAY",
        "outputId": "1ca0ea9b-65ca-4608-d7ac-903e41839b24"
      },
      "source": [
        "theta=2.3\n",
        "k=1\n",
        "gamma_x=sts.gamma.rvs(a=k, scale=theta,size=1000)\n",
        "plt.figure(figsize=(8, 5))\n",
        "plt.hist(gamma_x,density=True)\n",
        "plt.title('Gamma distribution')\n",
        "plt.xlabel('Value')\n",
        "plt.ylabel('Frequency')\n",
        "plt.show()\n",
        "print(\"Mean:\", np.mean(gamma_x))\n",
        "print(\"Variance:\", np.var(gamma_x))\n",
        "print(\"95% CI:[{}, {}]\".format(np.percentile(gamma_x, 2.5), np.percentile(gamma_x, 97.5)))\n"
      ],
      "execution_count": 36,
      "outputs": [
        {
          "output_type": "display_data",
          "data": {
            "image/png": "[encoded data removed]",
            "text/plain": [
              "<Figure size 576x360 with 1 Axes>"
            ]
          },
          "metadata": {
            "tags": [],
            "needs_background": "light"
          }
        },
        {
          "output_type": "stream",
          "text": [
            "Mean: 2.3346979197567834\n",
            "Variance: 5.030772116632457\n",
            "95% CI:[0.10390809958447099, 8.270630860091387]\n"
          ],
          "name": "stdout"
        }
      ]
    },
    {
      "cell_type": "markdown",
      "metadata": {
        "id": "Ff14t599--_W"
      },
      "source": [
        "Power Law $(α=2, k=1)$"
      ]
    },
    {
      "cell_type": "code",
      "metadata": {
        "colab": {
          "base_uri": "https://localhost:8080/",
          "height": 401
        },
        "id": "HDdecUif_GTS",
        "outputId": "dcd5122d-0d28-486b-e30e-f3747437343a"
      },
      "source": [
        "alpha=2\n",
        "k=1\n",
        "power_x=sts.powerlaw.rvs(a=alpha, scale=k,size=1000)\n",
        "plt.figure(figsize=(8, 5))\n",
        "plt.hist(power_x,density=True)\n",
        "plt.title('Power law')\n",
        "plt.xlabel('Value')\n",
        "plt.ylabel('Frequency')\n",
        "plt.show()\n",
        "print(\"Mean:\", np.mean(power_x))\n",
        "print(\"Variance:\", np.var(power_x))\n",
        "print(\"95% CI:[{}, {}]\".format(np.percentile(power_x, 2.5), np.percentile(power_x, 97.5)))\n"
      ],
      "execution_count": 39,
      "outputs": [
        {
          "output_type": "display_data",
          "data": {
            "image/png": "[encoded data removed]",
            "text/plain": [
              "<Figure size 576x360 with 1 Axes>"
            ]
          },
          "metadata": {
            "tags": [],
            "needs_background": "light"
          }
        },
        {
          "output_type": "stream",
          "text": [
            "Mean: 0.6628749539735694\n",
            "Variance: 0.0523713999797274\n",
            "95% CI:[0.18970779810570243, 0.9870227787466596]\n"
          ],
          "name": "stdout"
        }
      ]
    },
    {
      "cell_type": "code",
      "metadata": {
        "id": "4UHIFaRtkp-Z"
      },
      "source": [
        ""
      ],
      "execution_count": 20,
      "outputs": []
    },
    {
      "cell_type": "markdown",
      "metadata": {
        "id": "5RyPMTk_jyMs"
      },
      "source": [
        "**Problem 2B**"
      ]
    },
    {
      "cell_type": "code",
      "metadata": {
        "id": "q7PjndtQrLNW"
      },
      "source": [
        "import numpy as np\n",
        "import matplotlib.pyplot as plt\n",
        "import copy\n",
        "\n",
        "import scipy as sp\n",
        "import scipy.stats as sts\n",
        "from scipy.optimize import minimize\n",
        "from scipy.special import factorial"
      ],
      "execution_count": 40,
      "outputs": []
    },
    {
      "cell_type": "markdown",
      "metadata": {
        "id": "_f-yTgOKj3Rj"
      },
      "source": [
        "Question 1 "
      ]
    },
    {
      "cell_type": "code",
      "metadata": {
        "colab": {
          "base_uri": "https://localhost:8080/"
        },
        "id": "M7yOPOEwj09S",
        "outputId": "7330b7d1-4791-44ab-88db-c30553ae482d"
      },
      "source": [
        "data = [3, 2, 1, 1, 5, 2, 4, 5, 6, 6]\n",
        "\n",
        "### TODO: find mean and variance\n",
        "print(\"Mean:\", np.mean(data))\n",
        "print(\"Variance:\", np.var(data))"
      ],
      "execution_count": 56,
      "outputs": [
        {
          "output_type": "stream",
          "text": [
            "Mean: 3.5\n",
            "Variance: 3.45\n"
          ],
          "name": "stdout"
        }
      ]
    },
    {
      "cell_type": "code",
      "metadata": {
        "id": "TDkUHoEDj5hQ"
      },
      "source": [
        ""
      ],
      "execution_count": 56,
      "outputs": []
    },
    {
      "cell_type": "markdown",
      "metadata": {
        "id": "Ey8aetcXj8Df"
      },
      "source": [
        "Question 2 "
      ]
    },
    {
      "cell_type": "code",
      "metadata": {
        "id": "KcdAffNaj99Z"
      },
      "source": [
        "def poisson(k, lamb):\n",
        "    return (lamb**k/factorial(k)) * np.exp(-lamb)\n",
        "\n",
        "\n",
        "def negative_log_likelihood(params, data):\n",
        "    return -np.sum(np.log(poisson(data, params[0])))\n",
        "\n",
        "def negative_log_likelihood(params, data):\n",
        "    return -sts.poisson.logpmf(data, params[0]).sum()"
      ],
      "execution_count": 57,
      "outputs": []
    },
    {
      "cell_type": "code",
      "metadata": {
        "colab": {
          "base_uri": "https://localhost:8080/",
          "height": 265
        },
        "id": "Pz2TNP2DkBZ_",
        "outputId": "d9fea97f-a0f4-4054-905b-28bf566394a1"
      },
      "source": [
        "# source: https://stackoverflow.com/a/25828558\n",
        "\n",
        "# MLE: minimize the negative log-likelihood\n",
        "result = minimize(negative_log_likelihood,  # function to minimize\n",
        "                  x0=np.ones(1),            # start value\n",
        "                  args=(data,),             # additional arguments for function\n",
        "                  method='Powell',          # minimization method, see docs\n",
        "                  )\n",
        "\n",
        "# index for x-axis, number of moldy spots \n",
        "k = np.arange(0, 12)\n",
        "\n",
        "# get the density values for each x\n",
        "prior = sts.poisson.pmf(k, mu=result.x)\n",
        "\n",
        "plt.scatter(k, prior,label='prior')\n",
        "plt.legend()\n",
        "plt.show()"
      ],
      "execution_count": 59,
      "outputs": [
        {
          "output_type": "display_data",
          "data": {
            "image/png": "[encoded data removed]",
            "text/plain": [
              "<Figure size 432x288 with 1 Axes>"
            ]
          },
          "metadata": {
            "tags": [],
            "needs_background": "light"
          }
        }
      ]
    },
    {
      "cell_type": "markdown",
      "metadata": {
        "id": "cQkzIngTj563"
      },
      "source": [
        "**Problem 2C**"
      ]
    },
    {
      "cell_type": "markdown",
      "metadata": {
        "id": "mRpoz0JakL2I"
      },
      "source": [
        "Question 1\n"
      ]
    },
    {
      "cell_type": "code",
      "metadata": {
        "id": "3SSYdsmJkKAk"
      },
      "source": [
        "### TODO: new observations and combined list here\n",
        "new_data = [1,0,4,11,3,4,9,0,3,8,1,2,2,4,3,4,1,3,1,4]\n",
        "all_data = data + new_data"
      ],
      "execution_count": 64,
      "outputs": []
    },
    {
      "cell_type": "code",
      "metadata": {
        "colab": {
          "base_uri": "https://localhost:8080/"
        },
        "id": "3fIywuLoj9kW",
        "outputId": "a364ad30-1e48-40ed-e77c-8e18b784f05b"
      },
      "source": [
        "### TODO: print out mean and variance of all the data\n",
        "print(\"Mean:\", np.mean(all_data))\n",
        "print(\"Variance:\", np.var(all_data))"
      ],
      "execution_count": 65,
      "outputs": [
        {
          "output_type": "stream",
          "text": [
            "Mean: 3.433333333333333\n",
            "Variance: 6.578888888888889\n"
          ],
          "name": "stdout"
        }
      ]
    },
    {
      "cell_type": "markdown",
      "metadata": {
        "id": "InREOOIvkN8M"
      },
      "source": [
        "Question 2 "
      ]
    },
    {
      "cell_type": "markdown",
      "metadata": {
        "id": "5LvCmWXKkTyo"
      },
      "source": [
        "For the likelihood, we pick something with positive support, such as a truncated normal distribution since we cannot have negative number of mold spot counts.\n",
        "\n"
      ]
    },
    {
      "cell_type": "code",
      "metadata": {
        "colab": {
          "base_uri": "https://localhost:8080/",
          "height": 265
        },
        "id": "ilOK4ZsSkOVD",
        "outputId": "db68d45a-a65c-4808-f9b7-57c0bd252fc5"
      },
      "source": [
        "lower_limit = 0\n",
        "upper_limit = np.inf\n",
        "sigma = 1  # std for likelihood\n",
        "\n",
        "def likelihood(datum):\n",
        "    likelihood_dist = sts.truncnorm.pdf(\n",
        "        datum,\n",
        "        (lower_limit - k) / sigma,\n",
        "        (upper_limit - k) / sigma,\n",
        "        loc=k,\n",
        "        scale=sigma\n",
        "    )\n",
        "\n",
        "    return likelihood_dist\n",
        "\n",
        "plt.scatter(k, likelihood(3))  # example likelihood of a datapoint k = 3\n",
        "plt.show()"
      ],
      "execution_count": 66,
      "outputs": [
        {
          "output_type": "display_data",
          "data": {
            "image/png": "[encoded data removed]",
            "text/plain": [
              "<Figure size 432x288 with 1 Axes>"
            ]
          },
          "metadata": {
            "tags": [],
            "needs_background": "light"
          }
        }
      ]
    },
    {
      "cell_type": "markdown",
      "metadata": {
        "id": "4LomUuqUkYUo"
      },
      "source": [
        "Reminder about Bayesian update rule:\n",
        "\n",
        "$P(\\theta|X) = \\dfrac{P(X|\\theta)P(\\theta)}{P(X)}$,\n",
        "\n",
        "where:\n",
        "\n",
        "$\\theta$ is the distribution parameter\n",
        "$X$ is the observation\n",
        "$P(\\theta|X)$ is the posterior distribution (PDF)\n",
        "$P(\\theta)$ is the prior distribution (PDF)\n",
        "$P(X|\\theta)$ is the likelihood distribution (not a PDF)\n",
        "$P(X)$ is the evidence (we don't need this as we will just divide by the area under PDF curve)"
      ]
    },
    {
      "cell_type": "code",
      "metadata": {
        "id": "Q49OfD_SkWUI"
      },
      "source": [
        "unnormalized_posterior = copy.deepcopy(prior)\n",
        "\n",
        "for datum in new_data:\n",
        "    lklhd = likelihood(datum)\n",
        "    \n",
        "    ### TODO: what is the posterior? (hint: you can forget about P(X) for now)\n",
        "    unnormalized_posterior *= lklhd\n",
        "    \n",
        "# normalize the posterior so that area under this new PDF adds up to 1\n",
        "area = sp.integrate.trapz(unnormalized_posterior, k) + 1e-10000\n",
        "posterior = unnormalized_posterior / area"
      ],
      "execution_count": 67,
      "outputs": []
    },
    {
      "cell_type": "code",
      "metadata": {
        "colab": {
          "base_uri": "https://localhost:8080/",
          "height": 265
        },
        "id": "_kUtE-pYkccA",
        "outputId": "b315d514-3241-4de7-8c50-c0f08e4e131c"
      },
      "source": [
        "# comparing posterior to the prior\n",
        "plt.scatter(k, prior, label=\"prior\")\n",
        "plt.plot(k, posterior, label=\"posterior\", color=\"orange\")\n",
        "plt.legend()\n",
        "plt.show()"
      ],
      "execution_count": 68,
      "outputs": [
        {
          "output_type": "display_data",
          "data": {
            "image/png": "[encoded data removed]",
            "text/plain": [
              "<Figure size 432x288 with 1 Axes>"
            ]
          },
          "metadata": {
            "tags": [],
            "needs_background": "light"
          }
        }
      ]
    },
    {
      "cell_type": "code",
      "metadata": {
        "id": "mKDiAtHckcva"
      },
      "source": [
        "### TODO: recover the estimated mean of the number of moldy spots from the posterior\n",
        "# HINT: probability density is a weighting of each data point in the discrete distribution (such as ours)\n",
        "mean = np.sum(posterior*k)  # expression containing `k` and `posterior`"
      ],
      "execution_count": 69,
      "outputs": []
    },
    {
      "cell_type": "code",
      "metadata": {
        "colab": {
          "base_uri": "https://localhost:8080/"
        },
        "id": "R9je8t_Vkehv",
        "outputId": "38815dec-7af6-4758-cb99-f82f403e7d27"
      },
      "source": [
        "#posterior mean\n",
        "mean"
      ],
      "execution_count": 71,
      "outputs": [
        {
          "output_type": "execute_result",
          "data": {
            "text/plain": [
              "3.1034083903225778"
            ]
          },
          "metadata": {
            "tags": []
          },
          "execution_count": 71
        }
      ]
    },
    {
      "cell_type": "code",
      "metadata": {
        "id": "GvW8Vj1Mljns"
      },
      "source": [
        ""
      ],
      "execution_count": null,
      "outputs": []
    }
  ]
}